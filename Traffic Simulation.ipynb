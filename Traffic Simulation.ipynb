{
 "cells": [
  {
   "cell_type": "code",
   "execution_count": 1,
   "metadata": {
    "collapsed": false
   },
   "outputs": [],
   "source": [
    "import random\n",
    "import numpy as np       "
   ]
  },
  {
   "cell_type": "code",
   "execution_count": 5,
   "metadata": {
    "collapsed": false
   },
   "outputs": [],
   "source": []
  },
  {
   "cell_type": "code",
   "execution_count": 643,
   "metadata": {
    "collapsed": false
   },
   "outputs": [],
   "source": [
    "class Car:\n",
    "    def __init__(self, next_car, location, cruise_speed=33, car_length=5, ):\n",
    "        self.cruise_speed = cruise_speed\n",
    "        self.car_length = car_length\n",
    "        self.speed = 0\n",
    "        self.location = location\n",
    "        self.next_car = next_car\n",
    "        \n",
    "    def can_accelerate(self):\n",
    "        if self.location + self.speed < (next_car.location - 5):\n",
    "            return True\n",
    "        else:\n",
    "            return False\n",
    "    \n",
    "    def can_decelerate(self):\n",
    "        if random.random() < .1:\n",
    "            return True\n",
    "        return False\n",
    "    \n",
    "    def accelerate(self, acceleration_rate=2):\n",
    "        self.speed += acceleration_rate\n",
    "        if self.speed >= self.cruise_speed:\n",
    "            self.speed = self.cruise_speed\n",
    "        if self.location < 999:\n",
    "            self.location += self.speed\n",
    "        if self.location >= 1000:\n",
    "            self.location = self.location % 1000\n",
    "            \n",
    "    def decelerate(self, deceleration_rate = 2):\n",
    "        self.speed -= deceleration_rate\n",
    "        if self.speed < 2:\n",
    "            self.speed = 0\n",
    "        if self.location < 999:\n",
    "            self.location += self.speed\n",
    "        if self.location >= 1000:\n",
    "            self.location = self.location % 1000\n",
    "    \n",
    "    def move_forward(self):\n",
    "        #if self.can_accelerate():\n",
    "        self.accelerate()\n",
    "        if self.can_decelerate():\n",
    "            self.decelerate()\n",
    "    \n",
    "    def distance_check(self):\n",
    "        if \n"
   ]
  },
  {
   "cell_type": "code",
   "execution_count": 646,
   "metadata": {
    "collapsed": false
   },
   "outputs": [
    {
     "data": {
      "text/plain": [
       "[<__main__.Car at 0x1081a19b0>,\n",
       " <__main__.Car at 0x1081a1780>,\n",
       " <__main__.Car at 0x1081a1828>,\n",
       " <__main__.Car at 0x1081a1be0>,\n",
       " <__main__.Car at 0x1081a17f0>,\n",
       " <__main__.Car at 0x1081a1cc0>,\n",
       " <__main__.Car at 0x1081a1fd0>,\n",
       " <__main__.Car at 0x10819da20>,\n",
       " <__main__.Car at 0x10819d630>,\n",
       " <__main__.Car at 0x10819d9e8>,\n",
       " <__main__.Car at 0x10819d240>,\n",
       " <__main__.Car at 0x10819d9b0>,\n",
       " <__main__.Car at 0x10819d128>,\n",
       " <__main__.Car at 0x10819d160>,\n",
       " <__main__.Car at 0x10819d080>,\n",
       " <__main__.Car at 0x10819d0f0>,\n",
       " <__main__.Car at 0x10819da90>,\n",
       " <__main__.Car at 0x10819d780>,\n",
       " <__main__.Car at 0x10819db00>,\n",
       " <__main__.Car at 0x10819da58>,\n",
       " <__main__.Car at 0x10819d860>,\n",
       " <__main__.Car at 0x10819d7f0>,\n",
       " <__main__.Car at 0x10819d898>,\n",
       " <__main__.Car at 0x10819d518>,\n",
       " <__main__.Car at 0x10819d828>,\n",
       " <__main__.Car at 0x10819d048>,\n",
       " <__main__.Car at 0x10819d550>,\n",
       " <__main__.Car at 0x10819d588>,\n",
       " <__main__.Car at 0x10819d7b8>,\n",
       " <__main__.Car at 0x10819d748>]"
      ]
     },
     "execution_count": 646,
     "metadata": {},
     "output_type": "execute_result"
    }
   ],
   "source": [
    "class Sim:\n",
    "    \n",
    "    def __init__(self):\n",
    "        pass\n",
    "    \n",
    "    def create_cars(self, num_cars= 30):\n",
    "        car_location = np.linspace(0,970, num_cars,dtype=\"int64\")\n",
    "        car_list = []\n",
    "        next_car = None\n",
    "        for car_index in range(num_cars):\n",
    "            car_item = Car(car_location[car_index], next_car)\n",
    "            car_list.append(car_item)\n",
    "            car_list[0].next_car = car_list[-1]\n",
    "            next_car = car_item\n",
    "        return car_list\n"
   ]
  },
  {
   "cell_type": "code",
   "execution_count": 572,
   "metadata": {
    "collapsed": false
   },
   "outputs": [],
   "source": [
    "location_list = []\n",
    "time = 0\n",
    "for x in car:\n",
    "    x.move_forward()\n",
    "    #print(x.speed, x.location)\n",
    "    location_list.append(x.location)\n",
    "    time += 1\n",
    "location_list = np.array(location_list)\n",
    "#print(location_list)"
   ]
  }
 ],
 "metadata": {
  "kernelspec": {
   "display_name": "Python 3",
   "language": "python",
   "name": "python3"
  },
  "language_info": {
   "codemirror_mode": {
    "name": "ipython",
    "version": 3
   },
   "file_extension": ".py",
   "mimetype": "text/x-python",
   "name": "python",
   "nbconvert_exporter": "python",
   "pygments_lexer": "ipython3",
   "version": "3.5.0"
  }
 },
 "nbformat": 4,
 "nbformat_minor": 0
}
