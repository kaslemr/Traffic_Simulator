{
 "cells": [
  {
   "cell_type": "code",
   "execution_count": 2,
   "metadata": {
    "collapsed": false
   },
   "outputs": [],
   "source": [
    "import random\n",
    "import numpy as np       "
   ]
  },
  {
   "cell_type": "code",
   "execution_count": 665,
   "metadata": {
    "collapsed": false
   },
   "outputs": [],
   "source": [
    "class Car:\n",
    "    def __init__(self, location, next_car, index, cruise_speed=33, car_length=5, num_cars=30):\n",
    "        self.cruise_speed = cruise_speed\n",
    "        self.car_length = car_length\n",
    "        self.speed = 0\n",
    "        self.location = np.linspace(0,970, num_cars,dtype=\"int64\")[index]\n",
    "        self.next_car = next_car\n",
    "    \n",
    "    #def __str__(self):\n",
    "        #return self.location\n",
    "        \n",
    "    def can_accelerate(self):\n",
    "        if self.location + self.speed < (self.next_car.location - 5):\n",
    "            return True\n",
    "        else:\n",
    "            return False\n",
    "    \n",
    "    def can_decelerate(self):\n",
    "        if random.random() < .1:\n",
    "            return True\n",
    "        return False\n",
    "    \n",
    "    def accelerate(self, acceleration_rate=2):\n",
    "        self.speed += acceleration_rate\n",
    "        if self.speed >= self.cruise_speed:\n",
    "            self.speed = self.cruise_speed\n",
    "        self.location += self.speed\n",
    "        if self.location >= 1000:\n",
    "            self.location = self.location % 1000\n",
    "            \n",
    "    def decelerate(self, deceleration_rate = 2):\n",
    "        self.speed -= deceleration_rate\n",
    "        if self.speed < 2:\n",
    "            self.speed = 0\n",
    "        if self.location < 999:\n",
    "            self.location += self.speed\n",
    "        if self.location >= 1000:\n",
    "            self.location = self.location % 1000\n",
    "    \n",
    "    def move_forward(self):\n",
    "        if self.can_accelerate():\n",
    "            self.accelerate()\n",
    "        if self.can_decelerate():\n",
    "            self.decelerate()\n",
    "    "
   ]
  },
  {
   "cell_type": "code",
   "execution_count": 666,
   "metadata": {
    "collapsed": false,
    "scrolled": true
   },
   "outputs": [],
   "source": [
    "class Sim:\n",
    "    \n",
    "    def __init__(self):\n",
    "        pass\n",
    "    \n",
    "    def create_cars(self, num_cars= 30):\n",
    "        Car.location = np.linspace(0,970, num_cars,dtype=\"int64\")\n",
    "        car_list = []\n",
    "        next_car = None\n",
    "        for car_index in range(num_cars):\n",
    "            try:\n",
    "                car_item = Car(Car.location[car_index], Car.location[car_index + 1], car_index)\n",
    "            except:\n",
    "                car_item = Car(Car.location[car_index], Car.location[0], car_index)\n",
    "            car_list.append(car_item)\n",
    "        return car_list\n",
    "\n",
    "    \n",
    "    def move(self):\n",
    "        car_list = []\n",
    "        for x in y:\n",
    "            car_list.append(Car.move_forward(self))\n",
    "        return car_list\n",
    "\n",
    "def start_sim(x):\n",
    "    return Sim()\n",
    "\n",
    "def create_cars(x):\n",
    "    return x.create_cars()\n",
    "\n",
    "def move(x):\n",
    "    return x.move()\n",
    "\n",
    "def print_locations(y):\n",
    "    for x in y:\n",
    "        print(x.location)\n",
    "        print(x.next_car)\n",
    "        print(\"---\")"
   ]
  },
  {
   "cell_type": "code",
   "execution_count": 667,
   "metadata": {
    "collapsed": false
   },
   "outputs": [],
   "source": [
    "sim = start_sim(x)\n",
    "car = create_cars(sim)"
   ]
  },
  {
   "cell_type": "code",
   "execution_count": 578,
   "metadata": {
    "collapsed": false
   },
   "outputs": [
    {
     "ename": "NameError",
     "evalue": "name 'num_cars' is not defined",
     "output_type": "error",
     "traceback": [
      "\u001b[0;31m---------------------------------------------------------------------------\u001b[0m",
      "\u001b[0;31mNameError\u001b[0m                                 Traceback (most recent call last)",
      "\u001b[0;32m<ipython-input-578-02d70e4d74da>\u001b[0m in \u001b[0;36m<module>\u001b[0;34m()\u001b[0m\n\u001b[0;32m----> 1\u001b[0;31m \u001b[0mx\u001b[0m \u001b[0;34m=\u001b[0m \u001b[0mCar\u001b[0m\u001b[0;34m(\u001b[0m\u001b[0mcar\u001b[0m\u001b[0;34m[\u001b[0m\u001b[0;36m0\u001b[0m\u001b[0;34m]\u001b[0m\u001b[0;34m,\u001b[0m \u001b[0mcar\u001b[0m\u001b[0;34m[\u001b[0m\u001b[0;36m1\u001b[0m\u001b[0;34m]\u001b[0m\u001b[0;34m,\u001b[0m \u001b[0;36m0\u001b[0m\u001b[0;34m)\u001b[0m\u001b[0;34m\u001b[0m\u001b[0m\n\u001b[0m",
      "\u001b[0;32m<ipython-input-575-ab9dd1b83a5b>\u001b[0m in \u001b[0;36m__init__\u001b[0;34m(self, location, next_car, index, cruise_speed, car_length)\u001b[0m\n\u001b[1;32m      4\u001b[0m         \u001b[0mself\u001b[0m\u001b[0;34m.\u001b[0m\u001b[0mcar_length\u001b[0m \u001b[0;34m=\u001b[0m \u001b[0mcar_length\u001b[0m\u001b[0;34m\u001b[0m\u001b[0m\n\u001b[1;32m      5\u001b[0m         \u001b[0mself\u001b[0m\u001b[0;34m.\u001b[0m\u001b[0mspeed\u001b[0m \u001b[0;34m=\u001b[0m \u001b[0;36m0\u001b[0m\u001b[0;34m\u001b[0m\u001b[0m\n\u001b[0;32m----> 6\u001b[0;31m         \u001b[0mself\u001b[0m\u001b[0;34m.\u001b[0m\u001b[0mlocation\u001b[0m \u001b[0;34m=\u001b[0m \u001b[0mnp\u001b[0m\u001b[0;34m.\u001b[0m\u001b[0mlinspace\u001b[0m\u001b[0;34m(\u001b[0m\u001b[0;36m0\u001b[0m\u001b[0;34m,\u001b[0m\u001b[0;36m970\u001b[0m\u001b[0;34m,\u001b[0m \u001b[0mnum_cars\u001b[0m\u001b[0;34m,\u001b[0m\u001b[0mdtype\u001b[0m\u001b[0;34m=\u001b[0m\u001b[0;34m\"int64\"\u001b[0m\u001b[0;34m)\u001b[0m\u001b[0;34m[\u001b[0m\u001b[0mindex\u001b[0m\u001b[0;34m]\u001b[0m\u001b[0;34m\u001b[0m\u001b[0m\n\u001b[0m\u001b[1;32m      7\u001b[0m         \u001b[0mself\u001b[0m\u001b[0;34m.\u001b[0m\u001b[0mnext_car\u001b[0m \u001b[0;34m=\u001b[0m \u001b[0mnext_car\u001b[0m\u001b[0;34m\u001b[0m\u001b[0m\n\u001b[1;32m      8\u001b[0m \u001b[0;34m\u001b[0m\u001b[0m\n",
      "\u001b[0;31mNameError\u001b[0m: name 'num_cars' is not defined"
     ]
    }
   ],
   "source": [
    "x = Car(car[0], car[1], 0)\n"
   ]
  },
  {
   "cell_type": "code",
   "execution_count": 726,
   "metadata": {
    "collapsed": false
   },
   "outputs": [
    {
     "name": "stdout",
     "output_type": "stream",
     "text": [
      "691\n",
      "33\n",
      "---\n",
      "724\n",
      "66\n",
      "---\n",
      "757\n",
      "100\n",
      "---\n",
      "791\n",
      "133\n",
      "---\n",
      "824\n",
      "167\n",
      "---\n",
      "858\n",
      "200\n",
      "---\n",
      "891\n",
      "234\n",
      "---\n",
      "925\n",
      "267\n",
      "---\n",
      "958\n",
      "301\n",
      "---\n",
      "992\n",
      "334\n",
      "---\n",
      "25\n",
      "367\n",
      "---\n",
      "58\n",
      "401\n",
      "---\n",
      "92\n",
      "434\n",
      "---\n",
      "125\n",
      "468\n",
      "---\n",
      "159\n",
      "501\n",
      "---\n",
      "192\n",
      "535\n",
      "---\n",
      "226\n",
      "568\n",
      "---\n",
      "259\n",
      "602\n",
      "---\n",
      "293\n",
      "635\n",
      "---\n",
      "326\n",
      "668\n",
      "---\n",
      "359\n",
      "702\n",
      "---\n",
      "393\n",
      "735\n",
      "---\n",
      "426\n",
      "769\n",
      "---\n",
      "460\n",
      "802\n",
      "---\n",
      "493\n",
      "836\n",
      "---\n",
      "527\n",
      "869\n",
      "---\n",
      "560\n",
      "903\n",
      "---\n",
      "594\n",
      "936\n",
      "---\n",
      "627\n",
      "970\n",
      "---\n",
      "661\n",
      "0\n",
      "---\n"
     ]
    }
   ],
   "source": [
    "# need to fix self.location - it is returning a car object and not an integer\n",
    "# fixed it!!\n",
    "for x in car:\n",
    "    x.accelerate()\n",
    "\n",
    "print_locations(car)"
   ]
  },
  {
   "cell_type": "code",
   "execution_count": null,
   "metadata": {
    "collapsed": true
   },
   "outputs": [],
   "source": []
  },
  {
   "cell_type": "code",
   "execution_count": null,
   "metadata": {
    "collapsed": true
   },
   "outputs": [],
   "source": []
  },
  {
   "cell_type": "code",
   "execution_count": null,
   "metadata": {
    "collapsed": true
   },
   "outputs": [],
   "source": []
  },
  {
   "cell_type": "code",
   "execution_count": null,
   "metadata": {
    "collapsed": true
   },
   "outputs": [],
   "source": []
  },
  {
   "cell_type": "code",
   "execution_count": null,
   "metadata": {
    "collapsed": true
   },
   "outputs": [],
   "source": []
  },
  {
   "cell_type": "code",
   "execution_count": null,
   "metadata": {
    "collapsed": true
   },
   "outputs": [],
   "source": []
  },
  {
   "cell_type": "code",
   "execution_count": null,
   "metadata": {
    "collapsed": true
   },
   "outputs": [],
   "source": []
  },
  {
   "cell_type": "code",
   "execution_count": null,
   "metadata": {
    "collapsed": true
   },
   "outputs": [],
   "source": []
  },
  {
   "cell_type": "code",
   "execution_count": null,
   "metadata": {
    "collapsed": true
   },
   "outputs": [],
   "source": []
  },
  {
   "cell_type": "code",
   "execution_count": null,
   "metadata": {
    "collapsed": true
   },
   "outputs": [],
   "source": []
  },
  {
   "cell_type": "code",
   "execution_count": 596,
   "metadata": {
    "collapsed": false
   },
   "outputs": [],
   "source": [
    "# accelerate works, but now make move_forward work "
   ]
  },
  {
   "cell_type": "code",
   "execution_count": null,
   "metadata": {
    "collapsed": true
   },
   "outputs": [],
   "source": []
  },
  {
   "cell_type": "code",
   "execution_count": null,
   "metadata": {
    "collapsed": true
   },
   "outputs": [],
   "source": []
  }
 ],
 "metadata": {
  "kernelspec": {
   "display_name": "Python 3",
   "language": "python",
   "name": "python3"
  },
  "language_info": {
   "codemirror_mode": {
    "name": "ipython",
    "version": 3
   },
   "file_extension": ".py",
   "mimetype": "text/x-python",
   "name": "python",
   "nbconvert_exporter": "python",
   "pygments_lexer": "ipython3",
   "version": "3.5.0"
  }
 },
 "nbformat": 4,
 "nbformat_minor": 0
}
